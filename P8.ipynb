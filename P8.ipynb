{
 "cells": [
  {
   "cell_type": "markdown",
   "metadata": {},
   "source": [
    "### Exploring Survival on the Titanic\n",
    "by Mohamad Zeini Jahromi\n",
    "\n",
    "## Summary: \n",
    "\n",
    "The sinking of the RMS Titanic is one of the most infamous shipwrecks in history. On April 15, 1912, during her maiden voyage, the Titanic sank after colliding with an iceberg, killing 1502 out of 2224 passengers and crew. Here we are looking at 891 passengers’ information.\n",
    "\n",
    "Out of 891 passengers only 342 of them (%38) survived and 549 not. Most of survived and not survived people belong to ages between 15 to 40. Although the same number of males and females had died, but female passengers had survived the shipwreck almost four times more than male passengers.\n",
    "\n",
    "One of the reasons that the shipwreck led to such loss of life was that there were not enough lifeboats for the passengers and crew. Although there was some element of luck involved in surviving the sinking, some groups of people were more likely to survive than others, such as women, children, and the upper-class.\n",
    "\n",
    "In this explanatory visualization, I have shown the passengers distribution on board and illustrate how different situation and parameters affected their survival chance.\n",
    "\n",
    "## Design: \n",
    "\n",
    "I have used different pie charts and histograms to show the characteristics and distribution of passengers based on age, sex, class and etc. Next we explored the chance of survival using different bar charts. It's easy to get a feeling of how these parameters affect the chance of survival individually when we are using bar charts. \n",
    "\n",
    "Finally, I have included an interactive dashboard to the story that enables readers to play around and try different combinations of parameters and see how it affects the overall chance of survival. For this, I have used different **dashboard filters** to relate all the graphs together in hierarchy design. By narrowing down the choices, the overall chance of survival (%38) could increase or decrease. Some groups of people were more likely to survive than others, such as women, children, and the upper-class. For example, a woman in the 1st class cabin had a survival chance close to %100. \n",
    "\n",
    "## Feedback: \n",
    "\n",
    "I have received different feedbacks to removed many of unnecessary details such as highlights and legends and axis labels. They have already included in the **Tooltip** and make it hard to convey the main message to the readers easily.\n",
    "I have also received a feedback to include an interactive dashboard to the story that enables readers to play around and try different combinations of parameters and see how it affects the overall chance of survival.\n",
    "\n",
    "\n",
    "## Tableau Visualizations\n",
    "1st draft:\n",
    "https://public.tableau.com/views/P8_3_0/Dashboard1?:embed=y&:display_count=yes\n",
    "\n",
    "Final draft:\n",
    "https://public.tableau.com/views/P8_final/Story1?:embed=y&:display_count=yes\n",
    "\n",
    "## Resources\n",
    "\n",
    "https://www.tableau.com/learn/training\n",
    "https://en.wikipedia.org/wiki/Passengers_of_the_RMS_Titanic"
   ]
  }
 ],
 "metadata": {
  "anaconda-cloud": {},
  "kernelspec": {
   "display_name": "Python [conda env:DAND]",
   "language": "python",
   "name": "conda-env-DAND-py"
  },
  "language_info": {
   "codemirror_mode": {
    "name": "ipython",
    "version": 2
   },
   "file_extension": ".py",
   "mimetype": "text/x-python",
   "name": "python",
   "nbconvert_exporter": "python",
   "pygments_lexer": "ipython2",
   "version": "2.7.12"
  }
 },
 "nbformat": 4,
 "nbformat_minor": 2
}
